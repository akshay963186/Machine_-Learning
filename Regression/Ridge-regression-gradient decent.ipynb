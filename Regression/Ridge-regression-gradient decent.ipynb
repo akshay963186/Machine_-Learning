{
 "cells": [
  {
   "cell_type": "code",
   "execution_count": 1,
   "id": "2e46d43c-aafc-4783-a88d-34c1c9a7cd9f",
   "metadata": {},
   "outputs": [],
   "source": [
    "import numpy as np\n",
    "import pandas as pd\n",
    "from  sklearn.datasets import load_diabetes\n",
    "from sklearn.model_selection import train_test_split\n",
    "from sklearn.linear_model import SGDRegressor\n",
    "from sklearn.metrics import r2_score"
   ]
  },
  {
   "cell_type": "code",
   "execution_count": 2,
   "id": "659b7092-ecd8-4747-8573-ad411f7b70ed",
   "metadata": {},
   "outputs": [],
   "source": [
    "x,y=load_diabetes(return_X_y=True)"
   ]
  },
  {
   "cell_type": "code",
   "execution_count": 10,
   "id": "e16d4ed2-3f1a-44e0-b5bc-fa0723656b08",
   "metadata": {},
   "outputs": [],
   "source": [
    "x_train,x_test,y_train,y_test=train_test_split(x,y,test_size=0.2)"
   ]
  },
  {
   "cell_type": "code",
   "execution_count": 19,
   "id": "df929017-736d-4af2-8cdd-c96612c1d099",
   "metadata": {},
   "outputs": [],
   "source": [
    "sdg=SGDRegressor(penalty='l2',max_iter=500,eta0=0.1,learning_rate='constant',alpha=0.001)\n"
   ]
  },
  {
   "cell_type": "code",
   "execution_count": 20,
   "id": "386737a0-af5f-4814-9196-0c8c7f13fb83",
   "metadata": {},
   "outputs": [
    {
     "data": {
      "text/html": [
       "<style>#sk-container-id-4 {color: black;background-color: white;}#sk-container-id-4 pre{padding: 0;}#sk-container-id-4 div.sk-toggleable {background-color: white;}#sk-container-id-4 label.sk-toggleable__label {cursor: pointer;display: block;width: 100%;margin-bottom: 0;padding: 0.3em;box-sizing: border-box;text-align: center;}#sk-container-id-4 label.sk-toggleable__label-arrow:before {content: \"▸\";float: left;margin-right: 0.25em;color: #696969;}#sk-container-id-4 label.sk-toggleable__label-arrow:hover:before {color: black;}#sk-container-id-4 div.sk-estimator:hover label.sk-toggleable__label-arrow:before {color: black;}#sk-container-id-4 div.sk-toggleable__content {max-height: 0;max-width: 0;overflow: hidden;text-align: left;background-color: #f0f8ff;}#sk-container-id-4 div.sk-toggleable__content pre {margin: 0.2em;color: black;border-radius: 0.25em;background-color: #f0f8ff;}#sk-container-id-4 input.sk-toggleable__control:checked~div.sk-toggleable__content {max-height: 200px;max-width: 100%;overflow: auto;}#sk-container-id-4 input.sk-toggleable__control:checked~label.sk-toggleable__label-arrow:before {content: \"▾\";}#sk-container-id-4 div.sk-estimator input.sk-toggleable__control:checked~label.sk-toggleable__label {background-color: #d4ebff;}#sk-container-id-4 div.sk-label input.sk-toggleable__control:checked~label.sk-toggleable__label {background-color: #d4ebff;}#sk-container-id-4 input.sk-hidden--visually {border: 0;clip: rect(1px 1px 1px 1px);clip: rect(1px, 1px, 1px, 1px);height: 1px;margin: -1px;overflow: hidden;padding: 0;position: absolute;width: 1px;}#sk-container-id-4 div.sk-estimator {font-family: monospace;background-color: #f0f8ff;border: 1px dotted black;border-radius: 0.25em;box-sizing: border-box;margin-bottom: 0.5em;}#sk-container-id-4 div.sk-estimator:hover {background-color: #d4ebff;}#sk-container-id-4 div.sk-parallel-item::after {content: \"\";width: 100%;border-bottom: 1px solid gray;flex-grow: 1;}#sk-container-id-4 div.sk-label:hover label.sk-toggleable__label {background-color: #d4ebff;}#sk-container-id-4 div.sk-serial::before {content: \"\";position: absolute;border-left: 1px solid gray;box-sizing: border-box;top: 0;bottom: 0;left: 50%;z-index: 0;}#sk-container-id-4 div.sk-serial {display: flex;flex-direction: column;align-items: center;background-color: white;padding-right: 0.2em;padding-left: 0.2em;position: relative;}#sk-container-id-4 div.sk-item {position: relative;z-index: 1;}#sk-container-id-4 div.sk-parallel {display: flex;align-items: stretch;justify-content: center;background-color: white;position: relative;}#sk-container-id-4 div.sk-item::before, #sk-container-id-4 div.sk-parallel-item::before {content: \"\";position: absolute;border-left: 1px solid gray;box-sizing: border-box;top: 0;bottom: 0;left: 50%;z-index: -1;}#sk-container-id-4 div.sk-parallel-item {display: flex;flex-direction: column;z-index: 1;position: relative;background-color: white;}#sk-container-id-4 div.sk-parallel-item:first-child::after {align-self: flex-end;width: 50%;}#sk-container-id-4 div.sk-parallel-item:last-child::after {align-self: flex-start;width: 50%;}#sk-container-id-4 div.sk-parallel-item:only-child::after {width: 0;}#sk-container-id-4 div.sk-dashed-wrapped {border: 1px dashed gray;margin: 0 0.4em 0.5em 0.4em;box-sizing: border-box;padding-bottom: 0.4em;background-color: white;}#sk-container-id-4 div.sk-label label {font-family: monospace;font-weight: bold;display: inline-block;line-height: 1.2em;}#sk-container-id-4 div.sk-label-container {text-align: center;}#sk-container-id-4 div.sk-container {/* jupyter's `normalize.less` sets `[hidden] { display: none; }` but bootstrap.min.css set `[hidden] { display: none !important; }` so we also need the `!important` here to be able to override the default hidden behavior on the sphinx rendered scikit-learn.org. See: https://github.com/scikit-learn/scikit-learn/issues/21755 */display: inline-block !important;position: relative;}#sk-container-id-4 div.sk-text-repr-fallback {display: none;}</style><div id=\"sk-container-id-4\" class=\"sk-top-container\"><div class=\"sk-text-repr-fallback\"><pre>SGDRegressor(alpha=0.001, eta0=0.1, learning_rate=&#x27;constant&#x27;, max_iter=500)</pre><b>In a Jupyter environment, please rerun this cell to show the HTML representation or trust the notebook. <br />On GitHub, the HTML representation is unable to render, please try loading this page with nbviewer.org.</b></div><div class=\"sk-container\" hidden><div class=\"sk-item\"><div class=\"sk-estimator sk-toggleable\"><input class=\"sk-toggleable__control sk-hidden--visually\" id=\"sk-estimator-id-4\" type=\"checkbox\" checked><label for=\"sk-estimator-id-4\" class=\"sk-toggleable__label sk-toggleable__label-arrow\">SGDRegressor</label><div class=\"sk-toggleable__content\"><pre>SGDRegressor(alpha=0.001, eta0=0.1, learning_rate=&#x27;constant&#x27;, max_iter=500)</pre></div></div></div></div></div>"
      ],
      "text/plain": [
       "SGDRegressor(alpha=0.001, eta0=0.1, learning_rate='constant', max_iter=500)"
      ]
     },
     "execution_count": 20,
     "metadata": {},
     "output_type": "execute_result"
    }
   ],
   "source": [
    "sdg.fit(x_train,y_train)"
   ]
  },
  {
   "cell_type": "code",
   "execution_count": 21,
   "id": "95f41079-89d5-459a-992b-4673b14bf97b",
   "metadata": {},
   "outputs": [],
   "source": [
    "y_pred=sdg.predict(x_test)"
   ]
  },
  {
   "cell_type": "code",
   "execution_count": 22,
   "id": "9aa6d802-1bc5-4180-9959-91d7f118d218",
   "metadata": {},
   "outputs": [
    {
     "data": {
      "text/plain": [
       "0.4965706242266673"
      ]
     },
     "execution_count": 22,
     "metadata": {},
     "output_type": "execute_result"
    }
   ],
   "source": [
    "r2_score(y_test,y_pred)"
   ]
  },
  {
   "cell_type": "code",
   "execution_count": 23,
   "id": "f9ad5461-6965-4fd2-b5b2-1098105e0775",
   "metadata": {},
   "outputs": [],
   "source": [
    "from sklearn.linear_model import Ridge\n",
    "reg=Ridge(alpha=0.001,max_iter=500,solver='sparse_cg')"
   ]
  },
  {
   "cell_type": "code",
   "execution_count": 27,
   "id": "54fcbf79-e6dc-47e9-85dd-fc3ccbdd6fa3",
   "metadata": {},
   "outputs": [
    {
     "data": {
      "text/plain": [
       "0.5798203837889055"
      ]
     },
     "execution_count": 27,
     "metadata": {},
     "output_type": "execute_result"
    }
   ],
   "source": [
    "reg.fit(x_train,y_train)\n",
    "y_pred=reg.predict(x_test)\n",
    "r2_score(y_test,y_pred)"
   ]
  },
  {
   "cell_type": "code",
   "execution_count": 29,
   "id": "376d90b1-af60-4011-b321-d0e70c3903ce",
   "metadata": {},
   "outputs": [
    {
     "data": {
      "text/plain": [
       "array([ 2.71588462e-01, -2.40894565e+02,  5.36661087e+02,  2.80067008e+02,\n",
       "       -6.89120598e+02,  4.45801482e+02,  4.36407971e+01,  1.59816604e+02,\n",
       "        6.82434434e+02,  1.02430173e+02])"
      ]
     },
     "execution_count": 29,
     "metadata": {},
     "output_type": "execute_result"
    }
   ],
   "source": [
    "reg.intercept_\n",
    "reg.coef_"
   ]
  },
  {
   "cell_type": "code",
   "execution_count": null,
   "id": "c35f9911-c219-4e2a-b9c9-b5e375c7fdd5",
   "metadata": {},
   "outputs": [],
   "source": []
  },
  {
   "cell_type": "code",
   "execution_count": 48,
   "id": "bd320fc5-45b3-451a-a9cf-df894fe3ee4c",
   "metadata": {},
   "outputs": [],
   "source": [
    "class MeraRidgeGD:\n",
    "    def __init__(self,learning_rate,epochs,alpha):\n",
    "        self.lr=learning_rate\n",
    "        self.epoch=epochs\n",
    "        self.alpha=alpha\n",
    "        self.coef_=None\n",
    "        self.intercept_=None\n",
    "\n",
    "    def fit(self,x_train,y_train):\n",
    "        self.intercept_=0;\n",
    "        self.coef_=np.ones(x_train.shape[1])\n",
    "        theta=np.insert(self.coef_,0,self.intercept_)\n",
    "        x_train=np.insert(x_train,0,1,axis=1)\n",
    "        for i in range(self.epoch):\n",
    "            theta_der=np.dot(x_train.T,x_train).dot(theta) - np.dot(x_train.T,y_train) + self.alpha*theta\n",
    "            theta=theta - self.lr*theta_der\n",
    "        self.intercept_ =theta[0]\n",
    "        self.coef_ =theta[1:]\n",
    "    \n",
    "    def predict(self,x_test):\n",
    "        return np.dot(x_test,self.coef_) + self.intercept_"
   ]
  },
  {
   "cell_type": "code",
   "execution_count": 49,
   "id": "fd320aa3-5e0d-46e1-bda4-6e41fbf61e09",
   "metadata": {},
   "outputs": [],
   "source": [
    "reg=MeraRidgeGD(learning_rate=0.005,epochs=500,alpha=0.001)"
   ]
  },
  {
   "cell_type": "code",
   "execution_count": 50,
   "id": "fd0a101a-c915-471c-b9fd-45d68410e9ce",
   "metadata": {},
   "outputs": [],
   "source": [
    "reg.fit(x_train,y_train)\n",
    "y_pred=reg.predict(x_test)"
   ]
  },
  {
   "cell_type": "code",
   "execution_count": 51,
   "id": "3e0ef6a9-4815-41c6-abcc-9b29fcd48b7b",
   "metadata": {},
   "outputs": [
    {
     "data": {
      "text/plain": [
       "0.5595321991321416"
      ]
     },
     "execution_count": 51,
     "metadata": {},
     "output_type": "execute_result"
    }
   ],
   "source": [
    "r2_score(y_test,y_pred)"
   ]
  },
  {
   "cell_type": "code",
   "execution_count": 52,
   "id": "645bce2b-fd39-45fd-8f54-4227029dd317",
   "metadata": {},
   "outputs": [
    {
     "data": {
      "text/plain": [
       "array([  22.84188446, -186.29668051,  478.92353469,  252.97589624,\n",
       "        -22.41782195,  -71.7688224 , -210.81956072,  143.40024241,\n",
       "        376.4024684 ,  143.90100442])"
      ]
     },
     "execution_count": 52,
     "metadata": {},
     "output_type": "execute_result"
    }
   ],
   "source": [
    "reg.coef_"
   ]
  },
  {
   "cell_type": "code",
   "execution_count": null,
   "id": "7c3fc2d4-aa7d-44a5-bb4c-e59b3eba6ac1",
   "metadata": {},
   "outputs": [],
   "source": []
  }
 ],
 "metadata": {
  "kernelspec": {
   "display_name": "Python 3 (ipykernel)",
   "language": "python",
   "name": "python3"
  },
  "language_info": {
   "codemirror_mode": {
    "name": "ipython",
    "version": 3
   },
   "file_extension": ".py",
   "mimetype": "text/x-python",
   "name": "python",
   "nbconvert_exporter": "python",
   "pygments_lexer": "ipython3",
   "version": "3.11.7"
  }
 },
 "nbformat": 4,
 "nbformat_minor": 5
}
