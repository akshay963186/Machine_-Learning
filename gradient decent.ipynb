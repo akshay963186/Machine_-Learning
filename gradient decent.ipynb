{
 "cells": [
  {
   "cell_type": "code",
   "execution_count": 1,
   "id": "5c87438d-eba6-4520-8a65-d8e5f197fc74",
   "metadata": {},
   "outputs": [],
   "source": [
    "from sklearn.datasets import make_regression\n",
    "import matplotlib.pyplot as plt\n",
    "import pandas as pd\n",
    "import numpy as np"
   ]
  },
  {
   "cell_type": "code",
   "execution_count": 19,
   "id": "cfa75b2a-f5dc-42f6-a7df-620086368f90",
   "metadata": {},
   "outputs": [],
   "source": [
    "x,y=make_regression(n_samples=100, n_features=1, n_informative=1,n_targets=1,noise=20)"
   ]
  },
  {
   "cell_type": "code",
   "execution_count": 20,
   "id": "94a5dccb-26ca-475b-b5b1-c986b7a993a3",
   "metadata": {},
   "outputs": [
    {
     "data": {
      "text/plain": [
       "<matplotlib.collections.PathCollection at 0x26908a5f550>"
      ]
     },
     "execution_count": 20,
     "metadata": {},
     "output_type": "execute_result"
    },
    {
     "data": {
      "image/png": "[encoded data removed]",
      "text/plain": [
       "<Figure size 640x480 with 1 Axes>"
      ]
     },
     "metadata": {},
     "output_type": "display_data"
    }
   ],
   "source": [
    "plt.scatter(x,y)"
   ]
  },
  {
   "cell_type": "code",
   "execution_count": 21,
   "id": "cd2679f2-7c0b-46d8-862d-d10466bb9fd4",
   "metadata": {},
   "outputs": [],
   "source": [
    "from sklearn.linear_model import LinearRegression "
   ]
  },
  {
   "cell_type": "code",
   "execution_count": 22,
   "id": "8e8207c2-1c0f-40b2-8ede-78023e3c7545",
   "metadata": {},
   "outputs": [],
   "source": [
    "lr=LinearRegression()"
   ]
  },
  {
   "cell_type": "code",
   "execution_count": 23,
   "id": "7bb9874c-4fa3-4f2a-9971-1d3cf1a2559a",
   "metadata": {},
   "outputs": [
    {
     "name": "stdout",
     "output_type": "stream",
     "text": [
      "[87.16325489]\n",
      "-2.3415843260942335\n"
     ]
    }
   ],
   "source": [
    "lr.fit(x,y)\n",
    "print(lr.coef_)\n",
    "print(lr.intercept_)"
   ]
  },
  {
   "cell_type": "code",
   "execution_count": 25,
   "id": "00d8d288-3f42-4cb7-8be8-a91f2783f7f7",
   "metadata": {},
   "outputs": [],
   "source": [
    "m=87.16"
   ]
  },
  {
   "cell_type": "code",
   "execution_count": 48,
   "id": "0a28b017-5817-4fcc-be62-051c35134019",
   "metadata": {},
   "outputs": [],
   "source": [
    "from sklearn.model_selection import cross_val_score"
   ]
  },
  {
   "cell_type": "code",
   "execution_count": 52,
   "id": "4dd4f980-a995-4495-b513-a93b2651768c",
   "metadata": {},
   "outputs": [
    {
     "data": {
      "text/plain": [
       "0.9383392378634614"
      ]
     },
     "execution_count": 52,
     "metadata": {},
     "output_type": "execute_result"
    }
   ],
   "source": [
    "np.mean(cross_val_score(lr,x,y,scoring='r2',cv=10))"
   ]
  },
  {
   "cell_type": "code",
   "execution_count": 68,
   "id": "620edbf1-3d8f-43ea-93b7-68f439757ed7",
   "metadata": {},
   "outputs": [],
   "source": [
    "from sklearn.model_selection import train_test_split\n",
    "x_train,x_test,y_train,y_test=train_test_split(x,y,test_size=0.2,random_state=2)"
   ]
  },
  {
   "cell_type": "code",
   "execution_count": 74,
   "id": "e571be83-c23f-44f9-b2f1-1d8529de7ead",
   "metadata": {},
   "outputs": [
    {
     "data": {
      "text/plain": [
       "0.9412229330975267"
      ]
     },
     "execution_count": 74,
     "metadata": {},
     "output_type": "execute_result"
    }
   ],
   "source": [
    "y_pred=lr.predict(x_test)\n",
    "from sklearn.metrics import r2_score\n",
    "r2_score(y_test,y_pred)"
   ]
  },
  {
   "cell_type": "code",
   "execution_count": 69,
   "id": "5d126c5d-33ff-4537-8d83-fbb1bcedf513",
   "metadata": {},
   "outputs": [],
   "source": [
    "class GDRegressor:\n",
    "\n",
    "    def __init__(self,learning_rate,epochs):\n",
    "        self.m=100\n",
    "        self.b=-120\n",
    "        self.lr=learning_rate\n",
    "        self.epochs=epochs\n",
    "    def fit(self,x,y):\n",
    "        for i in range(self.epochs):\n",
    "            loss_slope_b=-2*np.sum(y-self.m*x.ravel()-self.b)\n",
    "            loss_slope_m=-2*np.sum((y-self.m*x.ravel()-self.b)*x.ravel())\n",
    "            self.b=self.b-(self.lr * loss_slope_b)\n",
    "            self.m=self.m-(self.lr * loss_slope_m)\n",
    "\n",
    "        print(self.m,self.b)\n",
    "\n",
    "    def predict(self,x):\n",
    "        return self.m *x+self.b\n",
    "        \n",
    "          \n",
    "        "
   ]
  },
  {
   "cell_type": "code",
   "execution_count": 70,
   "id": "2adc768c-3449-47f5-a278-b9a521ddebac",
   "metadata": {},
   "outputs": [],
   "source": [
    "gd=GDRegressor(0.001,50)"
   ]
  },
  {
   "cell_type": "code",
   "execution_count": 71,
   "id": "082b84fc-ca67-48e8-912d-8a32969ba7dc",
   "metadata": {},
   "outputs": [
    {
     "name": "stdout",
     "output_type": "stream",
     "text": [
      "86.36684376590186 -0.5430528822304932\n"
     ]
    }
   ],
   "source": [
    "gd.fit(x_train,y_train)"
   ]
  },
  {
   "cell_type": "code",
   "execution_count": 75,
   "id": "48cfbab7-8467-483a-bfa7-0699c6da339f",
   "metadata": {},
   "outputs": [
    {
     "data": {
      "text/plain": [
       "0.9349565736119874"
      ]
     },
     "execution_count": 75,
     "metadata": {},
     "output_type": "execute_result"
    }
   ],
   "source": [
    "y_pred=gd.predict(x_test)\n",
    "from sklearn.metrics import r2_score\n",
    "r2_score(y_test,y_pred)"
   ]
  },
  {
   "cell_type": "code",
   "execution_count": 66,
   "id": "20d40863-1d4a-4a32-9b1d-2466232a8e58",
   "metadata": {},
   "outputs": [
    {
     "data": {
      "text/plain": [
       "array([[-3.43609292e+00],\n",
       "       [-1.50425125e+01],\n",
       "       [ 1.64270653e+02],\n",
       "       [ 5.52682372e+01],\n",
       "       [-1.85101609e+02],\n",
       "       [-1.64648366e+01],\n",
       "       [-3.87587811e-02],\n",
       "       [-1.14345639e+02],\n",
       "       [ 7.27506871e+00],\n",
       "       [ 1.57738168e+02],\n",
       "       [-2.64897333e+01],\n",
       "       [-4.60755726e+01],\n",
       "       [ 2.83721920e+01],\n",
       "       [ 2.63093199e+01],\n",
       "       [ 8.12288607e+01],\n",
       "       [-7.60392945e+00],\n",
       "       [ 3.95700380e+01],\n",
       "       [-1.35428409e+02],\n",
       "       [-3.92910244e+01],\n",
       "       [ 1.57536810e+00],\n",
       "       [-4.89061502e+01],\n",
       "       [ 4.35608231e+00],\n",
       "       [ 1.14779509e+02],\n",
       "       [-4.92031275e+01],\n",
       "       [-4.85689988e+01],\n",
       "       [ 6.50741557e+00],\n",
       "       [ 1.03956914e+02],\n",
       "       [-2.13218241e+01],\n",
       "       [-7.35342003e+01],\n",
       "       [ 6.92195675e+01],\n",
       "       [-1.34761318e+02],\n",
       "       [-5.34100373e+01],\n",
       "       [ 3.01020173e+01],\n",
       "       [-9.94832558e+01],\n",
       "       [-1.21084056e+02],\n",
       "       [-1.56947544e+01],\n",
       "       [-6.64157888e+01],\n",
       "       [ 9.49962532e+01],\n",
       "       [-6.03886841e+00],\n",
       "       [ 1.58831869e+01],\n",
       "       [-4.04440172e+01],\n",
       "       [-1.92817199e+01],\n",
       "       [-1.22075734e+02],\n",
       "       [-5.58734015e+01],\n",
       "       [-1.23910628e+01],\n",
       "       [-1.42500974e+02],\n",
       "       [-5.48920805e+01],\n",
       "       [-1.05266628e+02],\n",
       "       [ 5.99893987e+01],\n",
       "       [ 2.17473748e+01],\n",
       "       [ 1.44239504e+02],\n",
       "       [-3.45754002e+01],\n",
       "       [-1.11315812e+02],\n",
       "       [ 1.15127310e+02],\n",
       "       [ 5.96406388e+01],\n",
       "       [ 3.58812776e+00],\n",
       "       [-1.17434247e+02],\n",
       "       [ 6.40358305e+01],\n",
       "       [-1.14424802e+02],\n",
       "       [ 1.53056503e+02],\n",
       "       [ 6.78536887e+01],\n",
       "       [ 8.74138369e+01],\n",
       "       [ 2.26231426e+01],\n",
       "       [-8.48950067e+01],\n",
       "       [-1.72975389e+02],\n",
       "       [ 1.53816053e+02],\n",
       "       [-2.31226906e+02],\n",
       "       [-5.52016032e+01],\n",
       "       [-2.77149126e+01],\n",
       "       [-1.06288278e+02],\n",
       "       [ 3.06127590e+01],\n",
       "       [ 4.08392880e+01],\n",
       "       [-1.79806230e+02],\n",
       "       [ 1.25129107e+02],\n",
       "       [ 8.14870626e+01],\n",
       "       [-2.42403926e+01],\n",
       "       [-6.37316056e+01],\n",
       "       [ 8.41201184e+01],\n",
       "       [-8.69215493e+01],\n",
       "       [-4.24395576e+01],\n",
       "       [ 1.31415831e+02],\n",
       "       [-4.41230579e+01],\n",
       "       [-1.29674484e+01],\n",
       "       [ 5.25866151e+01],\n",
       "       [-2.27138290e+02],\n",
       "       [-7.43364928e+01],\n",
       "       [-1.39779342e+02],\n",
       "       [-5.19717502e+00],\n",
       "       [-5.40380873e+01],\n",
       "       [ 4.45902646e+01],\n",
       "       [-1.48989969e+02],\n",
       "       [-9.16851421e+01],\n",
       "       [-1.88929362e+01],\n",
       "       [-2.33249956e+01],\n",
       "       [ 1.20807756e+02],\n",
       "       [ 1.00712360e+01],\n",
       "       [-3.11270265e+01],\n",
       "       [ 8.57000893e+01],\n",
       "       [-2.51948715e+01],\n",
       "       [-2.45359552e+01]])"
      ]
     },
     "execution_count": 66,
     "metadata": {},
     "output_type": "execute_result"
    }
   ],
   "source": [
    "gd.predict(x)"
   ]
  },
  {
   "cell_type": "code",
   "execution_count": null,
   "id": "9fe13182-33ff-4ccc-9609-b7fb55dea663",
   "metadata": {},
   "outputs": [],
   "source": []
  }
 ],
 "metadata": {
  "kernelspec": {
   "display_name": "Python 3 (ipykernel)",
   "language": "python",
   "name": "python3"
  },
  "language_info": {
   "codemirror_mode": {
    "name": "ipython",
    "version": 3
   },
   "file_extension": ".py",
   "mimetype": "text/x-python",
   "name": "python",
   "nbconvert_exporter": "python",
   "pygments_lexer": "ipython3",
   "version": "3.11.7"
  }
 },
 "nbformat": 4,
 "nbformat_minor": 5
}
